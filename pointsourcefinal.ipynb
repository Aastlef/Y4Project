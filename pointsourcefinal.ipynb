{
 "cells": [
  {
   "cell_type": "code",
   "execution_count": 2,
   "metadata": {},
   "outputs": [],
   "source": [
    "import numpy as np\n",
    "import pandas as pd\n",
    "import matplotlib.pyplot as plt\n",
    "from selenium import webdriver\n",
    "from selenium.common.exceptions import NoSuchElementException\n",
    "import time\n",
    "data=pd.read_csv('C:/Users/astle/Downloads/gps20.cat',sep='\\n',skiprows=4)"
   ]
  },
  {
   "cell_type": "code",
   "execution_count": 3,
   "metadata": {},
   "outputs": [
    {
     "data": {
      "text/html": [
       "<div>\n",
       "<style scoped>\n",
       "    .dataframe tbody tr th:only-of-type {\n",
       "        vertical-align: middle;\n",
       "    }\n",
       "\n",
       "    .dataframe tbody tr th {\n",
       "        vertical-align: top;\n",
       "    }\n",
       "\n",
       "    .dataframe thead th {\n",
       "        text-align: right;\n",
       "    }\n",
       "</style>\n",
       "<table border=\"1\" class=\"dataframe\">\n",
       "  <thead>\n",
       "    <tr style=\"text-align: right;\">\n",
       "      <th></th>\n",
       "      <th>Long    Lat     RA           Dec       Sprob    Fpeak      Fint    RMS     Maj    Min    PA Field    OldGPS</th>\n",
       "    </tr>\n",
       "  </thead>\n",
       "  <tbody>\n",
       "    <tr>\n",
       "      <th>0</th>\n",
       "      <td>339.739+0.419 16 44 12.282 -45 10 17.79  0.17 ...</td>\n",
       "    </tr>\n",
       "    <tr>\n",
       "      <th>1</th>\n",
       "      <td>339.968+0.555 16 44 28.207 -44 54 36.14  0.06 ...</td>\n",
       "    </tr>\n",
       "    <tr>\n",
       "      <th>2</th>\n",
       "      <td>339.980-0.539 16 49 14.776 -45 36 32.25  0.02 ...</td>\n",
       "    </tr>\n",
       "    <tr>\n",
       "      <th>3</th>\n",
       "      <td>340.025-0.002 16 47 04.495 -45 13 41.51  0.60 ...</td>\n",
       "    </tr>\n",
       "    <tr>\n",
       "      <th>4</th>\n",
       "      <td>340.051-0.231 16 48 09.875 -45 21 25.84  0.02 ...</td>\n",
       "    </tr>\n",
       "    <tr>\n",
       "      <th>...</th>\n",
       "      <td>...</td>\n",
       "    </tr>\n",
       "    <tr>\n",
       "      <th>5040</th>\n",
       "      <td>119.012+0.029 00 17 13.202 +62 38 25.25  0.02 ...</td>\n",
       "    </tr>\n",
       "    <tr>\n",
       "      <th>5041</th>\n",
       "      <td>119.071+0.027 00 17 44.083 +62 38 45.97  0.02 ...</td>\n",
       "    </tr>\n",
       "    <tr>\n",
       "      <th>5042</th>\n",
       "      <td>119.339-0.504 00 20 35.979 +62 09 08.99  0.02 ...</td>\n",
       "    </tr>\n",
       "    <tr>\n",
       "      <th>5043</th>\n",
       "      <td>119.450+0.401 00 20 37.076 +63 03 50.31  0.23 ...</td>\n",
       "    </tr>\n",
       "    <tr>\n",
       "      <th>5044</th>\n",
       "      <td>119.622+0.463 00 22 03.940 +63 08 45.72  0.08 ...</td>\n",
       "    </tr>\n",
       "  </tbody>\n",
       "</table>\n",
       "<p>5045 rows × 1 columns</p>\n",
       "</div>"
      ],
      "text/plain": [
       "     Long    Lat     RA           Dec       Sprob    Fpeak      Fint    RMS     Maj    Min    PA Field    OldGPS\n",
       "0     339.739+0.419 16 44 12.282 -45 10 17.79  0.17 ...                                                         \n",
       "1     339.968+0.555 16 44 28.207 -44 54 36.14  0.06 ...                                                         \n",
       "2     339.980-0.539 16 49 14.776 -45 36 32.25  0.02 ...                                                         \n",
       "3     340.025-0.002 16 47 04.495 -45 13 41.51  0.60 ...                                                         \n",
       "4     340.051-0.231 16 48 09.875 -45 21 25.84  0.02 ...                                                         \n",
       "...                                                 ...                                                         \n",
       "5040  119.012+0.029 00 17 13.202 +62 38 25.25  0.02 ...                                                         \n",
       "5041  119.071+0.027 00 17 44.083 +62 38 45.97  0.02 ...                                                         \n",
       "5042  119.339-0.504 00 20 35.979 +62 09 08.99  0.02 ...                                                         \n",
       "5043  119.450+0.401 00 20 37.076 +63 03 50.31  0.23 ...                                                         \n",
       "5044  119.622+0.463 00 22 03.940 +63 08 45.72  0.08 ...                                                         \n",
       "\n",
       "[5045 rows x 1 columns]"
      ]
     },
     "execution_count": 3,
     "metadata": {},
     "output_type": "execute_result"
    }
   ],
   "source": [
    "data"
   ]
  },
  {
   "cell_type": "code",
   "execution_count": 4,
   "metadata": {},
   "outputs": [
    {
     "data": {
      "text/plain": [
       "' 1.03'"
      ]
     },
     "execution_count": 4,
     "metadata": {},
     "output_type": "execute_result"
    }
   ],
   "source": [
    "data.iloc[:,0][913][:13].split('-')[0]\n",
    "data.iloc[:,0][913][81:86]"
   ]
  },
  {
   "cell_type": "code",
   "execution_count": 5,
   "metadata": {},
   "outputs": [],
   "source": [
    "query,size=[],[]\n",
    "for i in range (len(data)):\n",
    "    l=float(data.iloc[:,0][i][:7])\n",
    "    b=float(data.iloc[:,0][i][8:13])\n",
    "    c=float(data.iloc[:,0][i][81:86])\n",
    "    if l<48.5 and l>5:\n",
    "        if abs(b)<0.8:\n",
    "            query.append([l,data.iloc[:,0][i][7:13]])\n",
    "            size.append(c)"
   ]
  },
  {
   "cell_type": "code",
   "execution_count": 6,
   "metadata": {},
   "outputs": [
    {
     "data": {
      "text/plain": [
       "[2.18, 1.06, 0.0, 1.49, 0.71, 0.0, 2.0, 6.18, 2.85, 41.4]"
      ]
     },
     "execution_count": 6,
     "metadata": {},
     "output_type": "execute_result"
    }
   ],
   "source": [
    "size[:10]"
   ]
  },
  {
   "cell_type": "code",
   "execution_count": 22,
   "metadata": {},
   "outputs": [],
   "source": [
    "indices=[]\n",
    "for i,x in enumerate(size):\n",
    "    if x<5 or x>30:\n",
    "        indices.append(i)\n",
    "indices=sorted(indices,reverse=True)#reverse sort so that the indices of the elements to remove from query isnt affected"
   ]
  },
  {
   "cell_type": "code",
   "execution_count": 23,
   "metadata": {},
   "outputs": [],
   "source": [
    "for i in indices:\n",
    "    del query[i]\n",
    "    del size[i]"
   ]
  },
  {
   "cell_type": "code",
   "execution_count": 70,
   "metadata": {},
   "outputs": [],
   "source": [
    "testq=query[60:80]\n",
    "tests=size[60:80]"
   ]
  },
  {
   "cell_type": "code",
   "execution_count": 71,
   "metadata": {},
   "outputs": [],
   "source": [
    "for i in testq:\n",
    "    i[1]=float(i[1])"
   ]
  },
  {
   "cell_type": "code",
   "execution_count": null,
   "metadata": {},
   "outputs": [],
   "source": []
  },
  {
   "cell_type": "code",
   "execution_count": 72,
   "metadata": {},
   "outputs": [],
   "source": [
    "driver=webdriver.Firefox()\n",
    "driver.get('https://third.ucllnl.org/cgi-bin/gpscutout')\n",
    "script='arguments[0].value=arguments[1]'"
   ]
  },
  {
   "cell_type": "code",
   "execution_count": 73,
   "metadata": {},
   "outputs": [
    {
     "name": "stdout",
     "output_type": "stream",
     "text": [
      "missing files percentage: 0.0%\n"
     ]
    }
   ],
   "source": [
    "j=0\n",
    "for i in range(len(testq)):\n",
    "    try:\n",
    "        RA=driver.find_element_by_name('RA')\n",
    "        Size=driver.find_element_by_name('ImageSize')\n",
    "        driver.execute_script(script, RA,'{} {}'.format(testq[i][0],testq[i][1]))\n",
    "        driver.execute_script(script,Size,'{}'.format(tests[i]))\n",
    "        \n",
    "        exg=driver.find_element_by_name('Equinox')\n",
    "        driver.execute_script(script,exg,'{}'.format('Galactic'))\n",
    "        \n",
    "        download=driver.find_elements_by_name('ImageType')[2]\n",
    "        download.click()\n",
    "        time.sleep(2)\n",
    "        submit=driver.find_element_by_name('.submit')\n",
    "        submit.click()\n",
    "    except NoSuchElementException:\n",
    "        print('missing file with Galactic coordinates: {}'.format(testq[i]))\n",
    "        driver.get('https://third.ucllnl.org/cgi-bin/gpscutout')\n",
    "        time.sleep(1)\n",
    "        j+=1\n",
    "        continue\n",
    "print('missing files percentage: '+ str((round(100*j*len(testq)**-1,2))) +'%')"
   ]
  },
  {
   "cell_type": "code",
   "execution_count": null,
   "metadata": {},
   "outputs": [],
   "source": []
  }
 ],
 "metadata": {
  "kernelspec": {
   "display_name": "Python 3",
   "language": "python",
   "name": "python3"
  },
  "language_info": {
   "codemirror_mode": {
    "name": "ipython",
    "version": 3
   },
   "file_extension": ".py",
   "mimetype": "text/x-python",
   "name": "python",
   "nbconvert_exporter": "python",
   "pygments_lexer": "ipython3",
   "version": "3.8.3"
  }
 },
 "nbformat": 4,
 "nbformat_minor": 4
}
